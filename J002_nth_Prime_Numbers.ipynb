{
  "nbformat": 4,
  "nbformat_minor": 0,
  "metadata": {
    "colab": {
      "name": "J002: nth Prime Numbers.ipynb",
      "provenance": [],
      "collapsed_sections": [],
      "include_colab_link": true
    },
    "kernelspec": {
      "name": "python3",
      "display_name": "Python 3"
    }
  },
  "cells": [
    {
      "cell_type": "markdown",
      "metadata": {
        "id": "view-in-github",
        "colab_type": "text"
      },
      "source": [
        "<a href=\"https://colab.research.google.com/github/maaz-ansari/NLP/blob/master/J002_nth_Prime_Numbers.ipynb\" target=\"_parent\"><img src=\"https://colab.research.google.com/assets/colab-badge.svg\" alt=\"Open In Colab\"/></a>"
      ]
    },
    {
      "cell_type": "code",
      "metadata": {
        "colab_type": "code",
        "id": "6unHHTD6WXtQ",
        "colab": {}
      },
      "source": [
        ""
      ],
      "execution_count": 0,
      "outputs": []
    },
    {
      "cell_type": "markdown",
      "metadata": {
        "id": "VetDWFv1N1HA",
        "colab_type": "text"
      },
      "source": [
        "# J002: nth Prime Numbers"
      ]
    },
    {
      "cell_type": "code",
      "metadata": {
        "id": "RWVbpZbNRDRr",
        "colab_type": "code",
        "colab": {}
      },
      "source": [
        "import numpy as np\n",
        "import pandas as pd"
      ],
      "execution_count": 0,
      "outputs": []
    },
    {
      "cell_type": "code",
      "metadata": {
        "id": "jG5P2dDuRaRK",
        "colab_type": "code",
        "colab": {}
      },
      "source": [
        "list=[]"
      ],
      "execution_count": 0,
      "outputs": []
    },
    {
      "cell_type": "code",
      "metadata": {
        "id": "z9zo0TlTRf6r",
        "colab_type": "code",
        "colab": {}
      },
      "source": [
        "list.append(2)"
      ],
      "execution_count": 0,
      "outputs": []
    },
    {
      "cell_type": "code",
      "metadata": {
        "id": "rmAqFo4GRgaF",
        "colab_type": "code",
        "colab": {}
      },
      "source": [
        "def prime(n):\n",
        "  num=3\n",
        "  count=1\n",
        "  while (count<=n):\n",
        "    if is_prime(num):\n",
        "      list.append(num)\n",
        "      count+=1\n",
        "    num+=2  \n",
        "  print(n,\"th prime no is: \",list[n-1])\n",
        "\n",
        "def is_prime(num):\n",
        "  factor=2\n",
        "  while(factor*factor<=num):\n",
        "    if num%factor==0:\n",
        "      return False\n",
        "    factor+=1\n",
        "  return True"
      ],
      "execution_count": 0,
      "outputs": []
    },
    {
      "cell_type": "code",
      "metadata": {
        "id": "YlIFdyRcRra5",
        "colab_type": "code",
        "colab": {
          "base_uri": "https://localhost:8080/",
          "height": 72
        },
        "outputId": "074dd30b-3ee1-4945-8982-17c3bc0884ff"
      },
      "source": [
        "n=int(input(\"Enter the value of n: \\n\"))\n",
        "prime(n)"
      ],
      "execution_count": 25,
      "outputs": [
        {
          "output_type": "stream",
          "text": [
            "Enter the value of n: \n",
            "10\n",
            "10 th prime no is:  29\n"
          ],
          "name": "stdout"
        }
      ]
    },
    {
      "cell_type": "code",
      "metadata": {
        "colab_type": "code",
        "id": "ZWLPfgTyWXit",
        "colab": {}
      },
      "source": [
        ""
      ],
      "execution_count": 0,
      "outputs": []
    }
  ]
}